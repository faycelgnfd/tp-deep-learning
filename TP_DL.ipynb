{
  "nbformat": 4,
  "nbformat_minor": 0,
  "metadata": {
    "colab": {
      "name": "TP_DL.ipynb",
      "provenance": [],
      "toc_visible": true
    },
    "kernelspec": {
      "name": "python3",
      "display_name": "Python 3"
    },
    "language_info": {
      "name": "python"
    }
  },
  "cells": [
    {
      "cell_type": "markdown",
      "source": [
        "# TP DEEP LEARNING : GUENFOUD Fayçal"
      ],
      "metadata": {
        "id": "OWMe7C9tAPLW"
      }
    },
    {
      "cell_type": "code",
      "execution_count": null,
      "metadata": {
        "id": "AxHZTbFX5yvw"
      },
      "outputs": [],
      "source": [
        "# Importing libraries\n",
        "import tensorflow as tf\n",
        "import numpy as np\n",
        "import pandas as pd"
      ]
    },
    {
      "cell_type": "code",
      "source": [
        "# Importing Da\n",
        "train = pd.read_csv(\"https://raw.githubusercontent.com/faycelgnfd/tp-deep-learning/master/train.csv\")\n",
        "train = train.dropna()\n",
        "test = pd.read_csv(\"https://raw.githubusercontent.com/faycelgnfd/tp-deep-learning/master/test.csv\")\n",
        "test = test.dropna()\n",
        "val = pd.read_csv(\"https://raw.githubusercontent.com/faycelgnfd/tp-deep-learning/master/val.csv\")\n",
        "val = val.dropna()"
      ],
      "metadata": {
        "id": "4IdBztEY_084"
      },
      "execution_count": null,
      "outputs": []
    },
    {
      "cell_type": "markdown",
      "source": [
        "## **Getting only the first letter of the label**"
      ],
      "metadata": {
        "id": "EvP1TKGjEqIo"
      }
    },
    {
      "cell_type": "code",
      "source": [
        "# Training data\n",
        "X_train = train[\"RawText\"]\n",
        "y_train = train[\"ICD10\"].str.slice(0,1)\n",
        "\n",
        "# Validation data\n",
        "X_val = val[\"RawText\"]\n",
        "y_val = val[\"ICD10\"].str.slice(0,1)\n",
        "\n",
        "# Testing data\n",
        "X_test = test[\"RawText\"]\n",
        "y_test = test[\"ICD10\"].str.slice(0,1)\n",
        "\n"
      ],
      "metadata": {
        "id": "9A_Ki2TFAr-7"
      },
      "execution_count": null,
      "outputs": []
    },
    {
      "cell_type": "markdown",
      "source": [
        "## **Encoding the labels**"
      ],
      "metadata": {
        "id": "j-qV009vEwM4"
      }
    },
    {
      "cell_type": "code",
      "source": [
        "y_train = y_train.apply(lambda x : ord(x.lower()) - 97)\n",
        "y_test = y_test.apply(lambda x : ord(x.lower()) - 97)\n",
        "y_val = y_val.apply(lambda x : ord(x.lower()) - 97)"
      ],
      "metadata": {
        "id": "QijJKHAgYSJr"
      },
      "execution_count": null,
      "outputs": []
    },
    {
      "cell_type": "markdown",
      "source": [
        "## **Initializing the TextVectorization and passing our vocabulary**"
      ],
      "metadata": {
        "id": "nQ_DV00jEzyP"
      }
    },
    {
      "cell_type": "code",
      "source": [
        "victorization_layer = tf.keras.layers.TextVectorization(max_tokens=10000, pad_to_max_tokens=True)\n",
        "victorization_layer.adapt(X_train)"
      ],
      "metadata": {
        "id": "XfO1Y_0oYsWl"
      },
      "execution_count": null,
      "outputs": []
    },
    {
      "cell_type": "markdown",
      "source": [
        "## **Building the model's architecture**"
      ],
      "metadata": {
        "id": "qdUU3PfwQK2Q"
      }
    },
    {
      "cell_type": "code",
      "source": [
        "model = tf.keras.Sequential([\n",
        "  tf.keras.Input(shape=(), dtype=tf.string),\n",
        "  victorization_layer,\n",
        "  tf.keras.layers.Embedding(10000, 100),\n",
        "  tf.keras.layers.GlobalMaxPooling1D(),\n",
        "  tf.keras.layers.Dense(26,activation=\"softmax\")\n",
        "])"
      ],
      "metadata": {
        "id": "qRDYR4pNMoL2"
      },
      "execution_count": null,
      "outputs": []
    },
    {
      "cell_type": "markdown",
      "source": [
        "## **Configuring the model** "
      ],
      "metadata": {
        "id": "k-yVY1XvQuBC"
      }
    },
    {
      "cell_type": "code",
      "source": [
        "model.compile(optimizer=\"adam\",\n",
        "              loss=\"sparse_categorical_crossentropy\",\n",
        "              metrics=[\"accuracy\"])"
      ],
      "metadata": {
        "id": "IiRhic_6QR-F"
      },
      "execution_count": null,
      "outputs": []
    },
    {
      "cell_type": "markdown",
      "source": [
        "## **Training**"
      ],
      "metadata": {
        "id": "MAtR1yEtRCcH"
      }
    },
    {
      "cell_type": "code",
      "source": [
        "model.fit(X_train, y_train, epochs=8, validation_data=(X_val, y_val))"
      ],
      "metadata": {
        "colab": {
          "base_uri": "https://localhost:8080/"
        },
        "id": "Sb506ChpGvsr",
        "outputId": "0058fb3b-c6e8-4c77-f2a7-a1581aaa9128"
      },
      "execution_count": null,
      "outputs": [
        {
          "output_type": "stream",
          "name": "stdout",
          "text": [
            "Epoch 1/8\n",
            "5681/5681 [==============================] - 109s 19ms/step - loss: 1.1378 - accuracy: 0.6946 - val_loss: 0.6499 - val_accuracy: 0.8051\n",
            "Epoch 2/8\n",
            "5681/5681 [==============================] - 103s 18ms/step - loss: 0.5299 - accuracy: 0.8329 - val_loss: 0.5840 - val_accuracy: 0.8164\n",
            "Epoch 3/8\n",
            "5681/5681 [==============================] - 96s 17ms/step - loss: 0.4488 - accuracy: 0.8514 - val_loss: 0.5766 - val_accuracy: 0.8184\n",
            "Epoch 4/8\n",
            "5681/5681 [==============================] - 100s 18ms/step - loss: 0.4074 - accuracy: 0.8613 - val_loss: 0.5805 - val_accuracy: 0.8188\n",
            "Epoch 5/8\n",
            "5681/5681 [==============================] - 114s 20ms/step - loss: 0.3806 - accuracy: 0.8683 - val_loss: 0.5911 - val_accuracy: 0.8186\n",
            "Epoch 6/8\n",
            "5681/5681 [==============================] - 118s 21ms/step - loss: 0.3614 - accuracy: 0.8728 - val_loss: 0.6026 - val_accuracy: 0.8189\n",
            "Epoch 7/8\n",
            "5681/5681 [==============================] - 118s 21ms/step - loss: 0.3474 - accuracy: 0.8772 - val_loss: 0.6149 - val_accuracy: 0.8178\n",
            "Epoch 8/8\n",
            "5681/5681 [==============================] - 117s 21ms/step - loss: 0.3363 - accuracy: 0.8799 - val_loss: 0.6282 - val_accuracy: 0.8173\n"
          ]
        },
        {
          "output_type": "execute_result",
          "data": {
            "text/plain": [
              "<keras.callbacks.History at 0x7f3cc0d11750>"
            ]
          },
          "metadata": {},
          "execution_count": 22
        }
      ]
    },
    {
      "cell_type": "markdown",
      "source": [
        "## **Evaluationg the model**"
      ],
      "metadata": {
        "id": "dvPaPaNLZgSU"
      }
    },
    {
      "cell_type": "code",
      "source": [
        "model.evaluate(X_test, y_test)"
      ],
      "metadata": {
        "colab": {
          "base_uri": "https://localhost:8080/"
        },
        "id": "d3Q9hZ9_Zgjg",
        "outputId": "9898d87b-9b82-4ca9-cc48-abe3e5b29561"
      },
      "execution_count": null,
      "outputs": [
        {
          "output_type": "stream",
          "name": "stdout",
          "text": [
            "938/938 [==============================] - 2s 2ms/step - loss: 0.6155 - accuracy: 0.8158\n"
          ]
        },
        {
          "output_type": "execute_result",
          "data": {
            "text/plain": [
              "[0.6155304908752441, 0.815833330154419]"
            ]
          },
          "metadata": {},
          "execution_count": 23
        }
      ]
    }
  ]
}